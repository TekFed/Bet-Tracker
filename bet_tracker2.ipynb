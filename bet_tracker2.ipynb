{
 "cells": [
  {
   "cell_type": "code",
   "execution_count": 1,
   "id": "c712c02f",
   "metadata": {},
   "outputs": [
    {
     "name": "stderr",
     "output_type": "stream",
     "text": [
      "Matplotlib is building the font cache; this may take a moment.\n"
     ]
    }
   ],
   "source": [
    "import pandas as pd\n",
    "import matplotlib.pyplot as plt\n",
    "from datetime import datetime"
   ]
  },
  {
   "cell_type": "code",
   "execution_count": 2,
   "id": "bad0d67d",
   "metadata": {},
   "outputs": [
    {
     "name": "stdout",
     "output_type": "stream",
     "text": [
      "Loaded existing tracker file.\n"
     ]
    }
   ],
   "source": [
    "try:\n",
    "    df = pd.read_csv(\"predictions_tracker2.csv\")\n",
    "    print(\"Loaded existing tracker file.\")\n",
    "except FileNotFoundError:\n",
    "    df = pd.DataFrame(columns=[\n",
    "        \"Date\", \"League\", \"Match\", \"Your_Pick\", \"Result\",\n",
    "        \"Odds\", \"Outcome\", \"Profit\", \"EV\"\n",
    "    ])\n",
    "    print(\"New tracker created.\")"
   ]
  },
  {
   "cell_type": "code",
   "execution_count": 3,
   "id": "70b38193",
   "metadata": {},
   "outputs": [],
   "source": [
    "def add_prediction(date, league, match, your_pick, result, odds, outcome, win_prob):\n",
    "    \"\"\"\n",
    "    date: 'YYYY-MM-DD'\n",
    "    league: 'Premier League', etc.\n",
    "    match: 'Arsenal vs Chelsea'\n",
    "    your_pick: 'Arsenal to Win'\n",
    "    result: final score, e.g., '2-1'\n",
    "    odds: decimal odds (e.g., 1.85)\n",
    "    outcome: 'win', 'lose', or 'push'\n",
    "    win_prob: your estimated probability (0.0 - 1.0)\n",
    "    \"\"\"\n",
    "\n",
    "    # Calculate profit (assuming ₦100 stake)\n",
    "    if outcome.lower() == \"win\":\n",
    "        profit = (odds - 1) * 100\n",
    "    elif outcome.lower() == \"lose\":\n",
    "        profit = -100\n",
    "    else:\n",
    "        profit = 0  # push or refund\n",
    "\n",
    "    # Calculate Expected Value (EV)\n",
    "    ev = (win_prob * (odds - 1) * 100) - ((1 - win_prob) * 100)\n",
    "\n",
    "    new_row = {\n",
    "        \"Date\": date,\n",
    "        \"League\": league,\n",
    "        \"Match\": match,\n",
    "        \"Your_Pick\": your_pick,\n",
    "        \"Result\": result,\n",
    "        \"Odds\": odds,\n",
    "        \"Outcome\": outcome,\n",
    "        \"Profit\": profit,\n",
    "        \"EV\": ev\n",
    "    }\n",
    "\n",
    "    global df\n",
    "    df = pd.concat([df, pd.DataFrame([new_row])], ignore_index=True)\n",
    "    df.to_csv(\"predictions_tracker.csv\", index=False)\n",
    "    print(f\"✅ Added: {match} ({outcome.upper()}) | Profit: ₦{profit:.2f} | EV: ₦{ev:.2f}\")"
   ]
  },
  {
   "cell_type": "code",
   "execution_count": 4,
   "id": "c43520b0",
   "metadata": {},
   "outputs": [
    {
     "name": "stdout",
     "output_type": "stream",
     "text": [
      "✅ Added: Torino vs Napoli (WIN) | Profit: ₦70.00 | EV: ₦10.50\n",
      "✅ Added: Barcelona vs Girona (WIN) | Profit: ₦80.00 | EV: ₦8.00\n",
      "✅ Added: Liverpool vs Brentford (LOSE) | Profit: ₦-100.00 | EV: ₦1.75\n"
     ]
    },
    {
     "name": "stderr",
     "output_type": "stream",
     "text": [
      "C:\\Users\\USER\\AppData\\Local\\Temp\\ipykernel_11056\\68110417.py:37: FutureWarning: The behavior of DataFrame concatenation with empty or all-NA entries is deprecated. In a future version, this will no longer exclude empty or all-NA columns when determining the result dtypes. To retain the old behavior, exclude the relevant entries before the concat operation.\n",
      "  df = pd.concat([df, pd.DataFrame([new_row])], ignore_index=True)\n"
     ]
    }
   ],
   "source": [
    "add_prediction(\"2025-10-18\", \"Serie A\", \"Torino vs Napoli\", \"Napoli to Win\", \"1-2\", 1.70, \"win\", 0.65)\n",
    "add_prediction(\"2025-10-18\", \"La Liga\", \"Barcelona vs Girona\", \"BTTS Yes\", \"2-1\", 1.80, \"win\", 0.60)\n",
    "add_prediction(\"2025-10-19\", \"EPL\", \"Liverpool vs Brentford\", \"Over 2.5\", \"1-1\", 1.85, \"lose\", 0.55)"
   ]
  },
  {
   "cell_type": "code",
   "execution_count": 5,
   "id": "fc632c9c",
   "metadata": {},
   "outputs": [],
   "source": [
    "def summary():\n",
    "    if df.empty:\n",
    "        print(\"No data yet.\")\n",
    "        return\n",
    "\n",
    "    total_bets = len(df)\n",
    "    wins = len(df[df[\"Outcome\"].str.lower() == \"win\"])\n",
    "    losses = len(df[df[\"Outcome\"].str.lower() == \"lose\"])\n",
    "    pushes = len(df[df[\"Outcome\"].str.lower() == \"push\"])\n",
    "    total_profit = df[\"Profit\"].sum()\n",
    "    avg_ev = df[\"EV\"].mean()\n",
    "    win_rate = (wins / total_bets) * 100\n",
    "    roi = (total_profit / (total_bets * 100)) * 100\n",
    "\n",
    "    print(\"\\n📊 --- Betting Tracker Summary ---\")\n",
    "    print(f\"Total Bets: {total_bets}\")\n",
    "    print(f\"Wins: {wins} | Losses: {losses} | Pushes: {pushes}\")\n",
    "    print(f\"Win Rate: {win_rate:.2f}%\")\n",
    "    print(f\"Total Profit: ₦{total_profit:.2f}\")\n",
    "    print(f\"ROI: {roi:.2f}%\")\n",
    "    print(f\"Average EV: ₦{avg_ev:.2f}\")\n",
    "    print(f\"Predicted Accuracy vs. Real: {'✅ On Track' if avg_ev > 0 else '⚠️ Check Selections'}\")"
   ]
  },
  {
   "cell_type": "code",
   "execution_count": 6,
   "id": "0d1cc361",
   "metadata": {},
   "outputs": [],
   "source": [
    "def plot_performance():\n",
    "    if df.empty:\n",
    "        print(\"No data to plot yet.\")\n",
    "        return\n",
    "\n",
    "    df_sorted = df.sort_values(\"Date\")\n",
    "    df_sorted[\"Cumulative_Profit\"] = df_sorted[\"Profit\"].cumsum()\n",
    "\n",
    "    plt.figure(figsize=(10, 5))\n",
    "    plt.plot(df_sorted[\"Date\"], df_sorted[\"Cumulative_Profit\"], marker=\"o\", linewidth=2)\n",
    "    plt.title(\"📈 Betting Performance Over Time\")\n",
    "    plt.xlabel(\"Date\")\n",
    "    plt.ylabel(\"Cumulative Profit (₦)\")\n",
    "    plt.grid(True, linestyle=\"--\", alpha=0.6)\n",
    "    plt.tight_layout()\n",
    "    plt.show()"
   ]
  },
  {
   "cell_type": "code",
   "execution_count": 7,
   "id": "dacddf6d",
   "metadata": {},
   "outputs": [
    {
     "name": "stdout",
     "output_type": "stream",
     "text": [
      "\n",
      "📊 --- Betting Tracker Summary ---\n",
      "Total Bets: 3\n",
      "Wins: 2 | Losses: 1 | Pushes: 0\n",
      "Win Rate: 66.67%\n",
      "Total Profit: ₦50.00\n",
      "ROI: 16.67%\n",
      "Average EV: ₦6.75\n",
      "Predicted Accuracy vs. Real: ✅ On Track\n"
     ]
    }
   ],
   "source": [
    "summary()"
   ]
  },
  {
   "cell_type": "code",
   "execution_count": 8,
   "id": "f8abc07c",
   "metadata": {},
   "outputs": [
    {
     "name": "stderr",
     "output_type": "stream",
     "text": [
      "C:\\Users\\USER\\AppData\\Local\\Temp\\ipykernel_11056\\4225062213.py:15: UserWarning: Glyph 128200 (\\N{CHART WITH UPWARDS TREND}) missing from font(s) DejaVu Sans.\n",
      "  plt.tight_layout()\n",
      "c:\\Users\\USER\\AppData\\Local\\Programs\\Python\\Python313\\Lib\\site-packages\\IPython\\core\\pylabtools.py:170: UserWarning: Glyph 128200 (\\N{CHART WITH UPWARDS TREND}) missing from font(s) DejaVu Sans.\n",
      "  fig.canvas.print_figure(bytes_io, **kw)\n"
     ]
    },
    {
     "data": {
      "image/png": "[encoded data removed]",
      "text/plain": [
       "<Figure size 1000x500 with 1 Axes>"
      ]
     },
     "metadata": {},
     "output_type": "display_data"
    }
   ],
   "source": [
    "plot_performance()"
   ]
  }
 ],
 "metadata": {
  "kernelspec": {
   "display_name": "Python 3",
   "language": "python",
   "name": "python3"
  },
  "language_info": {
   "codemirror_mode": {
    "name": "ipython",
    "version": 3
   },
   "file_extension": ".py",
   "mimetype": "text/x-python",
   "name": "python",
   "nbconvert_exporter": "python",
   "pygments_lexer": "ipython3",
   "version": "3.13.7"
  }
 },
 "nbformat": 4,
 "nbformat_minor": 5
}
