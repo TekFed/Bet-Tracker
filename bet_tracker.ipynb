{
 "cells": [
  {
   "cell_type": "code",
   "execution_count": 1,
   "id": "640ae6e3",
   "metadata": {},
   "outputs": [],
   "source": [
    "import pandas as pd"
   ]
  },
  {
   "cell_type": "code",
   "execution_count": 2,
   "id": "3711fc62",
   "metadata": {},
   "outputs": [
    {
     "name": "stdout",
     "output_type": "stream",
     "text": [
      "Loaded existing tracker file.\n"
     ]
    }
   ],
   "source": [
    "try:\n",
    "    df = pd.read_csv(\"predictions_tracker.csv\")\n",
    "    print(\"Loaded existing tracker file.\")\n",
    "except FileNotFoundError:\n",
    "    df = pd.DataFrame(columns=[\n",
    "        \"Date\", \"League\", \"Match\", \"Your_Pick\", \"Result\", \"Odds\", \"Outcome\", \"Profit\"\n",
    "    ])\n",
    "    print(\"New tracker created.\")"
   ]
  },
  {
   "cell_type": "code",
   "execution_count": 3,
   "id": "6411bca4",
   "metadata": {},
   "outputs": [],
   "source": [
    "def add_prediction(date, league, match, your_pick, result, odds, outcome):\n",
    "    \"\"\"\n",
    "    outcome = 'win', 'lose', or 'push' (for refund)\n",
    "    result = actual final score, e.g., '2-1'\n",
    "    odds = decimal odds (e.g., 1.95)\n",
    "    \"\"\"\n",
    "    if outcome.lower() == 'win':\n",
    "        profit = (odds - 1) * 100  # assuming ₦100 stake\n",
    "    elif outcome.lower() == 'lose':\n",
    "        profit = -100\n",
    "    else:\n",
    "        profit = 0  # refund\n",
    "\n",
    "    new_row = {\n",
    "        \"Date\": date,\n",
    "        \"League\": league,\n",
    "        \"Match\": match,\n",
    "        \"Your_Pick\": your_pick,\n",
    "        \"Result\": result,\n",
    "        \"Odds\": odds,\n",
    "        \"Outcome\": outcome,\n",
    "        \"Profit\": profit\n",
    "    }\n",
    "\n",
    "    global df\n",
    "    df = pd.concat([df, pd.DataFrame([new_row])], ignore_index=True)\n",
    "    df.to_csv(\"predictions_tracker.csv\", index=False)\n",
    "    print(f\"Added: {match} ({outcome.upper()})\")\n"
   ]
  },
  {
   "cell_type": "code",
   "execution_count": 4,
   "id": "16b00872",
   "metadata": {},
   "outputs": [
    {
     "name": "stdout",
     "output_type": "stream",
     "text": [
      "Added: Torino vs Napoli (WIN)\n"
     ]
    },
    {
     "name": "stderr",
     "output_type": "stream",
     "text": [
      "C:\\Users\\USER\\AppData\\Local\\Temp\\ipykernel_10476\\3985333916.py:26: FutureWarning: The behavior of DataFrame concatenation with empty or all-NA entries is deprecated. In a future version, this will no longer exclude empty or all-NA columns when determining the result dtypes. To retain the old behavior, exclude the relevant entries before the concat operation.\n",
      "  df = pd.concat([df, pd.DataFrame([new_row])], ignore_index=True)\n"
     ]
    }
   ],
   "source": [
    "add_prediction(\"2025-10-18\", \"Serie A\", \"Torino vs Napoli\", \"Napoli to Win\", \"1-2\", 1.70, \"win\")\n"
   ]
  },
  {
   "cell_type": "code",
   "execution_count": 5,
   "id": "41277a55",
   "metadata": {},
   "outputs": [
    {
     "name": "stdout",
     "output_type": "stream",
     "text": [
      "Added: Barcelona vs Girona (WIN)\n"
     ]
    }
   ],
   "source": [
    "add_prediction(\"2025-10-18\", \"La Liga\", \"Barcelona vs Girona\", \"BTTS Yes\", \"2-1\", 1.80, \"win\")\n"
   ]
  },
  {
   "cell_type": "code",
   "execution_count": 6,
   "id": "67c978de",
   "metadata": {},
   "outputs": [],
   "source": [
    "def summary():\n",
    "    total_bets = len(df)\n",
    "    wins = len(df[df['Outcome'].str.lower() == 'win'])\n",
    "    losses = len(df[df['Outcome'].str.lower() == 'lose'])\n",
    "    pushes = len(df[df['Outcome'].str.lower() == 'push'])\n",
    "    total_profit = df['Profit'].sum()\n",
    "    roi = (total_profit / (total_bets * 100)) * 100 if total_bets > 0 else 0\n",
    "\n",
    "    print(\"\\n📊 --- Betting Tracker Summary ---\")\n",
    "    print(f\"Total Bets: {total_bets}\")\n",
    "    print(f\"Wins: {wins} | Losses: {losses} | Pushes: {pushes}\")\n",
    "    print(f\"Win Rate: {wins / total_bets * 100:.2f}%\")\n",
    "    print(f\"Total Profit: ₦{total_profit:.2f}\")\n",
    "    print(f\"ROI: {roi:.2f}%\")"
   ]
  },
  {
   "cell_type": "code",
   "execution_count": 7,
   "id": "7e50a785",
   "metadata": {},
   "outputs": [
    {
     "name": "stdout",
     "output_type": "stream",
     "text": [
      "\n",
      "📊 --- Betting Tracker Summary ---\n",
      "Total Bets: 2\n",
      "Wins: 2 | Losses: 0 | Pushes: 0\n",
      "Win Rate: 100.00%\n",
      "Total Profit: ₦150.00\n",
      "ROI: 75.00%\n"
     ]
    }
   ],
   "source": [
    "summary()"
   ]
  }
 ],
 "metadata": {
  "kernelspec": {
   "display_name": "Python 3",
   "language": "python",
   "name": "python3"
  },
  "language_info": {
   "codemirror_mode": {
    "name": "ipython",
    "version": 3
   },
   "file_extension": ".py",
   "mimetype": "text/x-python",
   "name": "python",
   "nbconvert_exporter": "python",
   "pygments_lexer": "ipython3",
   "version": "3.13.7"
  }
 },
 "nbformat": 4,
 "nbformat_minor": 5
}
